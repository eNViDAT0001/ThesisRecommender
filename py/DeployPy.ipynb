{
 "cells": [
  {
   "cell_type": "code",
   "execution_count": 5,
   "id": "a82b7bfe",
   "metadata": {},
   "outputs": [],
   "source": [
    "from flask import Flask, jsonify\n",
    "import pandas as pd\n",
    "import numpy as np\n",
    "from sklearn.metrics.pairwise import cosine_similarity"
   ]
  },
  {
   "cell_type": "code",
   "execution_count": 6,
   "id": "2323fbbb",
   "metadata": {},
   "outputs": [],
   "source": [
    "df = pd.read_csv('comment.csv')\n"
   ]
  },
  {
   "cell_type": "code",
   "execution_count": 7,
   "id": "f71c4ff7",
   "metadata": {},
   "outputs": [],
   "source": [
    "def resolve_product_id(df,product_code):\n",
    "    selected_columns = ['user_id', 'product_id', 'rating']\n",
    "    new_df = df[selected_columns]\n",
    "    new_df = new_df.drop_duplicates(['user_id', 'product_id', 'rating'])\n",
    "    # Create a DataFrame with the category codes and corresponding product IDs\n",
    "    df['product_id'] = df['product_id'].astype('category')\n",
    "    df['product_code'] = df['product_id'].cat.codes + 1\n",
    "    categories = df['product_id'].cat.categories\n",
    "    df['product_id_resolved'] = categories[df['product_code'] - 1]\n",
    "    # Filter the DataFrame based on the input product_code\n",
    "    resolved_product_id = df.loc[df['product_code'] == product_code, 'product_id_resolved'].values[0]\n",
    "    return resolved_product_id\n",
    "def find_hash_user_id(df, resolved_user_id):\n",
    "    df['user_id'] = df['user_id'].astype('category')\n",
    "    df['user_code'] = df['user_id'].cat.codes + 1\n",
    "    categories = df['user_id'].cat.categories\n",
    "    df['user_id_resolved'] = categories[df['user_code'] - 1]\n",
    "    # Filter the DataFrame based on the input resolved_user_id\n",
    "    user_code = df.loc[df['user_id_resolved'] == resolved_user_id, 'user_code'].values[0]\n",
    "    return user_code\n",
    "\n",
    "def recommend_products(original_user_id):\n",
    "    selected_columns = ['user_id', 'product_id', 'rating']\n",
    "    new_df = df[selected_columns]\n",
    "    new_df = new_df.drop_duplicates(['user_id', 'product_id', 'rating'])\n",
    "    new_df['rating'] = new_df['rating'].astype(float)  # Convert rating column to float\n",
    "    \n",
    "    clone_df = df\n",
    "    # Reset user_id and product_id to sequential numbers starting from 1\n",
    "    new_df['user_id'] = new_df['user_id'].astype('category').cat.codes + 1\n",
    "    new_df['product_id'] = new_df['product_id'].astype('category').cat.codes + 1\n",
    "    new_df = new_df.sort_values('user_id')\n",
    "    pivot_df = new_df.pivot(index='user_id', columns='product_id', values='rating')\n",
    "    # Reset the column names\n",
    "    pivot_df.columns.name = None\n",
    "    # Reset the index name\n",
    "    pivot_df.index.name = None\n",
    "    # Calculate the average rating for each product\n",
    "    product_avg = pivot_df.mean(axis=0)\n",
    "    # Fill NaN values with 0\n",
    "    pivot_df = pivot_df.fillna(0)\n",
    "    # Calculate the user-product matrix by subtracting the product average from each rating\n",
    "    matrix_avg = pivot_df.sub(product_avg, axis=1)\n",
    "    # Calculate the cosine similarity matrix\n",
    "    similarity = cosine_similarity(matrix_avg)\n",
    "    \n",
    "    user_id = find_hash_user_id(df,original_user_id)\n",
    "    # Get the row of the similarity matrix corresponding to the user\n",
    "    user_similarity = similarity[user_id-1]\n",
    "    # Find the top n similar users\n",
    "    similar_users = user_similarity.argsort()[:-2-1:-1]\n",
    "    # Find the products that the user has not rated\n",
    "    unrated_products = pivot_df.loc[user_id][pivot_df.loc[user_id] == 0].index\n",
    "    # Calculate the predicted rating for each unrated product\n",
    "    product_predictions = {}\n",
    "    for product in unrated_products:\n",
    "        product_ratings = matrix_avg[product].values\n",
    "        # Only consider ratings from similar users\n",
    "        similar_ratings = product_ratings[similar_users]\n",
    "        # Ignore ratings of 0 (unrated products)\n",
    "        similar_ratings = similar_ratings[similar_ratings != 0]\n",
    "        if len(similar_ratings) > 0:\n",
    "            # Calculate the predicted rating as the weighted average of similar ratings\n",
    "            weights = user_similarity[similar_users][similar_ratings.nonzero()]\n",
    "            prediction = (similar_ratings * weights).sum() / weights.sum()\n",
    "            product_predictions[product] = prediction\n",
    "    # Return the top n predicted products\n",
    "    recommended_products = sorted(\n",
    "        product_predictions, key=product_predictions.get, reverse=True)\n",
    "    # return recommended_products\n",
    "    result = []\n",
    "    for value in recommended_products:\n",
    "        result.append(resolve_product_id(clone_df,value)) \n",
    "\n",
    "    return result\n"
   ]
  },
  {
   "cell_type": "code",
   "execution_count": 8,
   "id": "3e58aa22",
   "metadata": {},
   "outputs": [
    {
     "ename": "ValueError",
     "evalue": "Index contains duplicate entries, cannot reshape",
     "output_type": "error",
     "traceback": [
      "\u001b[1;31m---------------------------------------------------------------------------\u001b[0m",
      "\u001b[1;31mValueError\u001b[0m                                Traceback (most recent call last)",
      "Cell \u001b[1;32mIn[8], line 9\u001b[0m\n\u001b[0;32m      7\u001b[0m \u001b[39m# Check if value has been encountered before\u001b[39;00m\n\u001b[0;32m      8\u001b[0m \u001b[39mif\u001b[39;00m user_id_value \u001b[39mnot\u001b[39;00m \u001b[39min\u001b[39;00m encountered_values:\n\u001b[1;32m----> 9\u001b[0m     recommended_products \u001b[39m=\u001b[39m recommend_products(user_id_value)\n\u001b[0;32m     10\u001b[0m     recommended_products_str \u001b[39m=\u001b[39m \u001b[39m'\u001b[39m\u001b[39m, \u001b[39m\u001b[39m'\u001b[39m\u001b[39m.\u001b[39mjoin(\u001b[39mstr\u001b[39m(product) \u001b[39mfor\u001b[39;00m product \u001b[39min\u001b[39;00m recommended_products)  \u001b[39m# Convert each element to string\u001b[39;00m\n\u001b[0;32m     12\u001b[0m     \u001b[39mprint\u001b[39m(\u001b[39m\"\u001b[39m\u001b[39mUser id \u001b[39m\u001b[39m\"\u001b[39m \u001b[39m+\u001b[39m \u001b[39mstr\u001b[39m(user_id_value) \u001b[39m+\u001b[39m \u001b[39m\"\u001b[39m\u001b[39m recommend: \u001b[39m\u001b[39m\"\u001b[39m \u001b[39m+\u001b[39m recommended_products_str)\n",
      "Cell \u001b[1;32mIn[7], line 33\u001b[0m, in \u001b[0;36mrecommend_products\u001b[1;34m(original_user_id)\u001b[0m\n\u001b[0;32m     31\u001b[0m new_df[\u001b[39m'\u001b[39m\u001b[39mproduct_id\u001b[39m\u001b[39m'\u001b[39m] \u001b[39m=\u001b[39m new_df[\u001b[39m'\u001b[39m\u001b[39mproduct_id\u001b[39m\u001b[39m'\u001b[39m]\u001b[39m.\u001b[39mastype(\u001b[39m'\u001b[39m\u001b[39mcategory\u001b[39m\u001b[39m'\u001b[39m)\u001b[39m.\u001b[39mcat\u001b[39m.\u001b[39mcodes \u001b[39m+\u001b[39m \u001b[39m1\u001b[39m\n\u001b[0;32m     32\u001b[0m new_df \u001b[39m=\u001b[39m new_df\u001b[39m.\u001b[39msort_values(\u001b[39m'\u001b[39m\u001b[39muser_id\u001b[39m\u001b[39m'\u001b[39m)\n\u001b[1;32m---> 33\u001b[0m pivot_df \u001b[39m=\u001b[39m new_df\u001b[39m.\u001b[39;49mpivot(index\u001b[39m=\u001b[39;49m\u001b[39m'\u001b[39;49m\u001b[39muser_id\u001b[39;49m\u001b[39m'\u001b[39;49m, columns\u001b[39m=\u001b[39;49m\u001b[39m'\u001b[39;49m\u001b[39mproduct_id\u001b[39;49m\u001b[39m'\u001b[39;49m, values\u001b[39m=\u001b[39;49m\u001b[39m'\u001b[39;49m\u001b[39mrating\u001b[39;49m\u001b[39m'\u001b[39;49m)\n\u001b[0;32m     34\u001b[0m \u001b[39m# Reset the column names\u001b[39;00m\n\u001b[0;32m     35\u001b[0m pivot_df\u001b[39m.\u001b[39mcolumns\u001b[39m.\u001b[39mname \u001b[39m=\u001b[39m \u001b[39mNone\u001b[39;00m\n",
      "File \u001b[1;32mc:\\Users\\Admin\\AppData\\Local\\Programs\\Python\\Python310\\lib\\site-packages\\pandas\\core\\frame.py:8424\u001b[0m, in \u001b[0;36mDataFrame.pivot\u001b[1;34m(self, columns, index, values)\u001b[0m\n\u001b[0;32m   8419\u001b[0m \u001b[39m@Substitution\u001b[39m(\u001b[39m\"\u001b[39m\u001b[39m\"\u001b[39m)\n\u001b[0;32m   8420\u001b[0m \u001b[39m@Appender\u001b[39m(_shared_docs[\u001b[39m\"\u001b[39m\u001b[39mpivot\u001b[39m\u001b[39m\"\u001b[39m])\n\u001b[0;32m   8421\u001b[0m \u001b[39mdef\u001b[39;00m \u001b[39mpivot\u001b[39m(\u001b[39mself\u001b[39m, \u001b[39m*\u001b[39m, columns, index\u001b[39m=\u001b[39mlib\u001b[39m.\u001b[39mNoDefault, values\u001b[39m=\u001b[39mlib\u001b[39m.\u001b[39mNoDefault) \u001b[39m-\u001b[39m\u001b[39m>\u001b[39m DataFrame:\n\u001b[0;32m   8422\u001b[0m     \u001b[39mfrom\u001b[39;00m \u001b[39mpandas\u001b[39;00m\u001b[39m.\u001b[39;00m\u001b[39mcore\u001b[39;00m\u001b[39m.\u001b[39;00m\u001b[39mreshape\u001b[39;00m\u001b[39m.\u001b[39;00m\u001b[39mpivot\u001b[39;00m \u001b[39mimport\u001b[39;00m pivot\n\u001b[1;32m-> 8424\u001b[0m     \u001b[39mreturn\u001b[39;00m pivot(\u001b[39mself\u001b[39;49m, index\u001b[39m=\u001b[39;49mindex, columns\u001b[39m=\u001b[39;49mcolumns, values\u001b[39m=\u001b[39;49mvalues)\n",
      "File \u001b[1;32mc:\\Users\\Admin\\AppData\\Local\\Programs\\Python\\Python310\\lib\\site-packages\\pandas\\core\\reshape\\pivot.py:557\u001b[0m, in \u001b[0;36mpivot\u001b[1;34m(data, columns, index, values)\u001b[0m\n\u001b[0;32m    553\u001b[0m         indexed \u001b[39m=\u001b[39m data\u001b[39m.\u001b[39m_constructor_sliced(data[values]\u001b[39m.\u001b[39m_values, index\u001b[39m=\u001b[39mmultiindex)\n\u001b[0;32m    554\u001b[0m \u001b[39m# error: Argument 1 to \"unstack\" of \"DataFrame\" has incompatible type \"Union\u001b[39;00m\n\u001b[0;32m    555\u001b[0m \u001b[39m# [List[Any], ExtensionArray, ndarray[Any, Any], Index, Series]\"; expected\u001b[39;00m\n\u001b[0;32m    556\u001b[0m \u001b[39m# \"Hashable\"\u001b[39;00m\n\u001b[1;32m--> 557\u001b[0m result \u001b[39m=\u001b[39m indexed\u001b[39m.\u001b[39;49munstack(columns_listlike)  \u001b[39m# type: ignore[arg-type]\u001b[39;00m\n\u001b[0;32m    558\u001b[0m result\u001b[39m.\u001b[39mindex\u001b[39m.\u001b[39mnames \u001b[39m=\u001b[39m [\n\u001b[0;32m    559\u001b[0m     name \u001b[39mif\u001b[39;00m name \u001b[39mis\u001b[39;00m \u001b[39mnot\u001b[39;00m lib\u001b[39m.\u001b[39mNoDefault \u001b[39melse\u001b[39;00m \u001b[39mNone\u001b[39;00m \u001b[39mfor\u001b[39;00m name \u001b[39min\u001b[39;00m result\u001b[39m.\u001b[39mindex\u001b[39m.\u001b[39mnames\n\u001b[0;32m    560\u001b[0m ]\n\u001b[0;32m    562\u001b[0m \u001b[39mreturn\u001b[39;00m result\n",
      "File \u001b[1;32mc:\\Users\\Admin\\AppData\\Local\\Programs\\Python\\Python310\\lib\\site-packages\\pandas\\core\\series.py:4309\u001b[0m, in \u001b[0;36mSeries.unstack\u001b[1;34m(self, level, fill_value)\u001b[0m\n\u001b[0;32m   4266\u001b[0m \u001b[39m\u001b[39m\u001b[39m\"\"\"\u001b[39;00m\n\u001b[0;32m   4267\u001b[0m \u001b[39mUnstack, also known as pivot, Series with MultiIndex to produce DataFrame.\u001b[39;00m\n\u001b[0;32m   4268\u001b[0m \n\u001b[1;32m   (...)\u001b[0m\n\u001b[0;32m   4305\u001b[0m \u001b[39mb    2    4\u001b[39;00m\n\u001b[0;32m   4306\u001b[0m \u001b[39m\"\"\"\u001b[39;00m\n\u001b[0;32m   4307\u001b[0m \u001b[39mfrom\u001b[39;00m \u001b[39mpandas\u001b[39;00m\u001b[39m.\u001b[39;00m\u001b[39mcore\u001b[39;00m\u001b[39m.\u001b[39;00m\u001b[39mreshape\u001b[39;00m\u001b[39m.\u001b[39;00m\u001b[39mreshape\u001b[39;00m \u001b[39mimport\u001b[39;00m unstack\n\u001b[1;32m-> 4309\u001b[0m \u001b[39mreturn\u001b[39;00m unstack(\u001b[39mself\u001b[39;49m, level, fill_value)\n",
      "File \u001b[1;32mc:\\Users\\Admin\\AppData\\Local\\Programs\\Python\\Python310\\lib\\site-packages\\pandas\\core\\reshape\\reshape.py:488\u001b[0m, in \u001b[0;36munstack\u001b[1;34m(obj, level, fill_value)\u001b[0m\n\u001b[0;32m    486\u001b[0m \u001b[39mif\u001b[39;00m is_1d_only_ea_dtype(obj\u001b[39m.\u001b[39mdtype):\n\u001b[0;32m    487\u001b[0m     \u001b[39mreturn\u001b[39;00m _unstack_extension_series(obj, level, fill_value)\n\u001b[1;32m--> 488\u001b[0m unstacker \u001b[39m=\u001b[39m _Unstacker(\n\u001b[0;32m    489\u001b[0m     obj\u001b[39m.\u001b[39;49mindex, level\u001b[39m=\u001b[39;49mlevel, constructor\u001b[39m=\u001b[39;49mobj\u001b[39m.\u001b[39;49m_constructor_expanddim\n\u001b[0;32m    490\u001b[0m )\n\u001b[0;32m    491\u001b[0m \u001b[39mreturn\u001b[39;00m unstacker\u001b[39m.\u001b[39mget_result(\n\u001b[0;32m    492\u001b[0m     obj\u001b[39m.\u001b[39m_values, value_columns\u001b[39m=\u001b[39m\u001b[39mNone\u001b[39;00m, fill_value\u001b[39m=\u001b[39mfill_value\n\u001b[0;32m    493\u001b[0m )\n",
      "File \u001b[1;32mc:\\Users\\Admin\\AppData\\Local\\Programs\\Python\\Python310\\lib\\site-packages\\pandas\\core\\reshape\\reshape.py:136\u001b[0m, in \u001b[0;36m_Unstacker.__init__\u001b[1;34m(self, index, level, constructor)\u001b[0m\n\u001b[0;32m    128\u001b[0m \u001b[39mif\u001b[39;00m num_cells \u001b[39m>\u001b[39m np\u001b[39m.\u001b[39miinfo(np\u001b[39m.\u001b[39mint32)\u001b[39m.\u001b[39mmax:\n\u001b[0;32m    129\u001b[0m     warnings\u001b[39m.\u001b[39mwarn(\n\u001b[0;32m    130\u001b[0m         \u001b[39mf\u001b[39m\u001b[39m\"\u001b[39m\u001b[39mThe following operation may generate \u001b[39m\u001b[39m{\u001b[39;00mnum_cells\u001b[39m}\u001b[39;00m\u001b[39m cells \u001b[39m\u001b[39m\"\u001b[39m\n\u001b[0;32m    131\u001b[0m         \u001b[39mf\u001b[39m\u001b[39m\"\u001b[39m\u001b[39min the resulting pandas object.\u001b[39m\u001b[39m\"\u001b[39m,\n\u001b[0;32m    132\u001b[0m         PerformanceWarning,\n\u001b[0;32m    133\u001b[0m         stacklevel\u001b[39m=\u001b[39mfind_stack_level(),\n\u001b[0;32m    134\u001b[0m     )\n\u001b[1;32m--> 136\u001b[0m \u001b[39mself\u001b[39;49m\u001b[39m.\u001b[39;49m_make_selectors()\n",
      "File \u001b[1;32mc:\\Users\\Admin\\AppData\\Local\\Programs\\Python\\Python310\\lib\\site-packages\\pandas\\core\\reshape\\reshape.py:188\u001b[0m, in \u001b[0;36m_Unstacker._make_selectors\u001b[1;34m(self)\u001b[0m\n\u001b[0;32m    185\u001b[0m mask\u001b[39m.\u001b[39mput(selector, \u001b[39mTrue\u001b[39;00m)\n\u001b[0;32m    187\u001b[0m \u001b[39mif\u001b[39;00m mask\u001b[39m.\u001b[39msum() \u001b[39m<\u001b[39m \u001b[39mlen\u001b[39m(\u001b[39mself\u001b[39m\u001b[39m.\u001b[39mindex):\n\u001b[1;32m--> 188\u001b[0m     \u001b[39mraise\u001b[39;00m \u001b[39mValueError\u001b[39;00m(\u001b[39m\"\u001b[39m\u001b[39mIndex contains duplicate entries, cannot reshape\u001b[39m\u001b[39m\"\u001b[39m)\n\u001b[0;32m    190\u001b[0m \u001b[39mself\u001b[39m\u001b[39m.\u001b[39mgroup_index \u001b[39m=\u001b[39m comp_index\n\u001b[0;32m    191\u001b[0m \u001b[39mself\u001b[39m\u001b[39m.\u001b[39mmask \u001b[39m=\u001b[39m mask\n",
      "\u001b[1;31mValueError\u001b[0m: Index contains duplicate entries, cannot reshape"
     ]
    }
   ],
   "source": [
    "encountered_values = set()\n",
    "\n",
    "# Iterate over rows\n",
    "for _, row in df.iterrows():\n",
    "    user_id_value = row['user_id']\n",
    "    \n",
    "    # Check if value has been encountered before\n",
    "    if user_id_value not in encountered_values:\n",
    "        recommended_products = recommend_products(user_id_value)\n",
    "        recommended_products_str = ', '.join(str(product) for product in recommended_products)  # Convert each element to string\n",
    "        \n",
    "        print(\"User id \" + str(user_id_value) + \" recommend: \" + recommended_products_str)\n",
    "        encountered_values.add(user_id_value)\n"
   ]
  },
  {
   "cell_type": "code",
   "execution_count": 81,
   "id": "ec9835f3",
   "metadata": {},
   "outputs": [
    {
     "data": {
      "text/plain": [
       "[3, 2, 5, 1, 4]"
      ]
     },
     "execution_count": 81,
     "metadata": {},
     "output_type": "execute_result"
    }
   ],
   "source": []
  },
  {
   "cell_type": "code",
   "execution_count": null,
   "id": "ba21489b",
   "metadata": {},
   "outputs": [],
   "source": []
  },
  {
   "cell_type": "code",
   "execution_count": null,
   "id": "1cdec53d",
   "metadata": {},
   "outputs": [],
   "source": []
  },
  {
   "cell_type": "code",
   "execution_count": null,
   "id": "4bb5db13",
   "metadata": {},
   "outputs": [],
   "source": []
  },
  {
   "cell_type": "code",
   "execution_count": null,
   "id": "6e42390b",
   "metadata": {},
   "outputs": [],
   "source": []
  }
 ],
 "metadata": {
  "kernelspec": {
   "display_name": "Python 3 (ipykernel)",
   "language": "python",
   "name": "python3"
  },
  "language_info": {
   "codemirror_mode": {
    "name": "ipython",
    "version": 3
   },
   "file_extension": ".py",
   "mimetype": "text/x-python",
   "name": "python",
   "nbconvert_exporter": "python",
   "pygments_lexer": "ipython3",
   "version": "3.10.5"
  }
 },
 "nbformat": 4,
 "nbformat_minor": 5
}
